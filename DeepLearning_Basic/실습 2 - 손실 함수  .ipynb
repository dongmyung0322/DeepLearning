{
 "cells": [
  {
   "cell_type": "code",
   "execution_count": 1,
   "id": "a39c6759",
   "metadata": {},
   "outputs": [],
   "source": [
    "import numpy as np"
   ]
  },
  {
   "cell_type": "markdown",
   "id": "45bc6ee4",
   "metadata": {},
   "source": [
    "# MSE"
   ]
  },
  {
   "cell_type": "code",
   "execution_count": 2,
   "id": "01dc5ab7",
   "metadata": {},
   "outputs": [],
   "source": [
    "def mean_squared_error(y_true, y_pred):\n",
    "    mse = np.mean((y_true-y_pred)**2)\n",
    "    \n",
    "    return mse"
   ]
  },
  {
   "cell_type": "code",
   "execution_count": 4,
   "id": "417dd4cc",
   "metadata": {},
   "outputs": [
    {
     "name": "stdout",
     "output_type": "stream",
     "text": [
      "6.25\n"
     ]
    }
   ],
   "source": [
    "y_true = np.array([1,2,3,4])\n",
    "y_pred = np.array([1,5,3,8])\n",
    "\n",
    "print(mean_squared_error(y_true,y_pred))\n"
   ]
  },
  {
   "cell_type": "markdown",
   "id": "6200b99a",
   "metadata": {},
   "source": [
    "# Binary Cross Entropy"
   ]
  },
  {
   "cell_type": "code",
   "execution_count": 5,
   "id": "93e742b2",
   "metadata": {},
   "outputs": [],
   "source": [
    "def binary_cross_entropy_loss(y_true, y_pred):\n",
    "    epsilon = 1e-15\n",
    "    n = y_true.shape[0]\n",
    "    loss = -np.mean(y_true * np.log(y_pred+epsilon) + (1-y_true) * np.log(1-y_pred + epsilon))\n",
    "    \n",
    "    return loss"
   ]
  },
  {
   "cell_type": "code",
   "execution_count": 6,
   "id": "a94325cc",
   "metadata": {},
   "outputs": [
    {
     "name": "stdout",
     "output_type": "stream",
     "text": [
      "0.17380733669106627\n"
     ]
    }
   ],
   "source": [
    "y_true = np.array([1,0,1,1])\n",
    "y_pred = np.array([0.99, 0.1, 0.8, 0.7])\n",
    "print(binary_cross_entropy_loss(y_true,y_pred))"
   ]
  },
  {
   "cell_type": "markdown",
   "id": "8f089087",
   "metadata": {},
   "source": [
    "# Cross Entropy"
   ]
  },
  {
   "cell_type": "code",
   "execution_count": 7,
   "id": "577f3690",
   "metadata": {},
   "outputs": [],
   "source": [
    "def cross_entropy_loss(y_true, y_pred, C):        # C = 클래스 개수\n",
    "    n = y_true.shape[0] # 샘플 개수\n",
    "    ce_loss = -1 / n * np.sum(y_true * np.log(y_pred))\n",
    "    \n",
    "    return ce_loss"
   ]
  },
  {
   "cell_type": "code",
   "execution_count": 8,
   "id": "9dcb1616",
   "metadata": {},
   "outputs": [
    {
     "name": "stdout",
     "output_type": "stream",
     "text": [
      "0.42432189193762915\n"
     ]
    }
   ],
   "source": [
    "y_true = np.array([[1,0,0], [0,1,0], [0,0,1]])\n",
    "y_pred = np.array([[0.7,0.2,0.1], [0.1,0.8,0.1], [0.2,0.3,0.5]])\n",
    "C = 3\n",
    "\n",
    "print(cross_entropy_loss(y_true,y_pred,C))"
   ]
  },
  {
   "cell_type": "code",
   "execution_count": null,
   "id": "33eaaa6b",
   "metadata": {},
   "outputs": [],
   "source": []
  }
 ],
 "metadata": {
  "kernelspec": {
   "display_name": "condatorch",
   "language": "python",
   "name": "condatorch"
  },
  "language_info": {
   "codemirror_mode": {
    "name": "ipython",
    "version": 3
   },
   "file_extension": ".py",
   "mimetype": "text/x-python",
   "name": "python",
   "nbconvert_exporter": "python",
   "pygments_lexer": "ipython3",
   "version": "3.8.16"
  }
 },
 "nbformat": 4,
 "nbformat_minor": 5
}
