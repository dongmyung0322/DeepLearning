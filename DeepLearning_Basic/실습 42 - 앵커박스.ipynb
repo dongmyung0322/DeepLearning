{
 "cells": [
  {
   "cell_type": "code",
   "execution_count": 1,
   "id": "524eb5e4",
   "metadata": {},
   "outputs": [],
   "source": [
    "import numpy as np\n",
    "import matplotlib.pyplot as plt\n",
    "import matplotlib.patches as patches"
   ]
  },
  {
   "cell_type": "code",
   "execution_count": 25,
   "id": "a3cf73ac",
   "metadata": {},
   "outputs": [],
   "source": [
    "# k-means 클러스터링 함수\n",
    "def k_means(boxes, k, num_iter=100):\n",
    "    box_areas = (boxes[:,2] - boxes[:,0]) * (boxes[:,3] - boxes[:,1])\n",
    "    print(box_areas)\n",
    "    indices = np.argsort(box_areas) # 크기 기준으로 정렬된 index\n",
    "    print(indices)\n",
    "    \n",
    "    # 가장큰 k개의 박스 선택 >> 초기 중심 클러스터 설정\n",
    "    clusters = boxes[indices[-k:]]\n",
    "    print(clusters)\n",
    "    prev_clusters = np.zeros_like(clusters) # 클러스터 중심값 초기화\n",
    "    \n",
    "    for _ in range(num_iter):\n",
    "        # 각 박스와 가까운 클러스터를 연결\n",
    "        box_clusters = np.argmin(((boxes[:, None] - clusters)**2).sum(axis=2), axis=1) #할당 단계, 거리구하기\n",
    "        \n",
    "        # 클러스터의 중심을 다시 계산\n",
    "        # 업데이트 단계, 해당 클래스에 속한 박스들의 평균값을 계산해서 클러스터의 중심값 업데이트\n",
    "        for cluster_idx in range(k):\n",
    "            if np.any(box_clusters == cluster_idx):\n",
    "                clusters[cluster_idx] = boxes[box_clusters == cluster_idx].mean(axis=0)\n",
    "                \n",
    "        # 클러스터의 변화량을 계산하여 수렴 여부 판단\n",
    "        # 클러스터 알고리즘 반복적 수행 > 클러스터 변화량이 임계치 값보다 작다면 종료 (수렴 ok)\n",
    "        if np.all(np.abs(prev_clusters - clusters) < 1e-6):\n",
    "            break\n",
    "        pre_clusters = clusters.copy()\n",
    "    return clusters"
   ]
  },
  {
   "cell_type": "code",
   "execution_count": 26,
   "id": "59d5b1e6",
   "metadata": {},
   "outputs": [],
   "source": [
    "def plot_boxes(boxes, title='Anchors'):\n",
    "    fig, ax = plt.subplots(1)\n",
    "    ax.set_title(title)\n",
    "    \n",
    "    # 원본 이미지 크기 (200, 200)\n",
    "    img_width, img_height = 200, 200\n",
    "    \n",
    "    # 이미지 크기에 맞게 앵커 박스 자표 정규화 후 그리기\n",
    "    for box in boxes:\n",
    "        x1, y1, x2, y2 = box\n",
    "        x1, y1 = x1 / img_width, y1 / img_height\n",
    "        x2, y2 = x2 / img_width, y2 / img_height\n",
    "        \n",
    "        width, height = x2 - x1, y2 - y1\n",
    "        rect = patches.Rectangle((x1, y1), width, height, linewidth=1, edgecolor='r', facecolor='none')\n",
    "        ax.add_patch(rect)\n",
    "        \n",
    "    ax.set_xlim(0,1)\n",
    "    ax.set_ylim(0,1)\n",
    "    ax.invert_yaxis()\n",
    "    plt.show()\n",
    "    "
   ]
  },
  {
   "cell_type": "code",
   "execution_count": 27,
   "id": "db5b24e5",
   "metadata": {},
   "outputs": [
    {
     "name": "stdout",
     "output_type": "stream",
     "text": [
      "[1600 3000 3000 6300 3000 6600]\n",
      "[0 1 2 4 3 5]\n",
      "[[ 30  40  80 100]\n",
      " [100  90 150 150]\n",
      " [ 20  30  70  90]\n",
      " [ 50  60 120 150]\n",
      " [ 80  70 140 180]]\n"
     ]
    },
    {
     "data": {
      "image/png": "[encoded data removed]",
      "text/plain": [
       "<Figure size 640x480 with 1 Axes>"
      ]
     },
     "metadata": {},
     "output_type": "display_data"
    }
   ],
   "source": [
    "boxes = np.array(([10,10,50,50], [30,40,80,100], [100,90,150,150], [50,60,120,150], [20,30,70,90], [80,70,140,180]))\n",
    "k=5\n",
    "anchors = k_means(boxes, k)\n",
    "\n",
    "plot_boxes(anchors)"
   ]
  },
  {
   "cell_type": "code",
   "execution_count": null,
   "id": "18f9cbd7",
   "metadata": {},
   "outputs": [],
   "source": []
  }
 ],
 "metadata": {
  "kernelspec": {
   "display_name": "condatorch",
   "language": "python",
   "name": "condatorch"
  },
  "language_info": {
   "codemirror_mode": {
    "name": "ipython",
    "version": 3
   },
   "file_extension": ".py",
   "mimetype": "text/x-python",
   "name": "python",
   "nbconvert_exporter": "python",
   "pygments_lexer": "ipython3",
   "version": "3.8.16"
  }
 },
 "nbformat": 4,
 "nbformat_minor": 5
}
