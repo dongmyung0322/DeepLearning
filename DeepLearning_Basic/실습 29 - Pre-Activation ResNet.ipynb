{
 "cells": [
  {
   "cell_type": "code",
   "execution_count": 1,
   "id": "51b8c66e",
   "metadata": {},
   "outputs": [],
   "source": [
    "import torch\n",
    "import torch.nn as nn\n",
    "import torch.nn.functional as F"
   ]
  },
  {
   "cell_type": "markdown",
   "id": "fea6f497",
   "metadata": {},
   "source": [
    "# ResNet 기본 블럭 정의"
   ]
  },
  {
   "cell_type": "code",
   "execution_count": 2,
   "id": "3cd2905f",
   "metadata": {},
   "outputs": [],
   "source": [
    "class BasicBlock(nn.Module):\n",
    "    \n",
    "    expansion = 1  # 확장 비율 변수 > ResNet block 채널 수를 확장하는 경우에 숫자를 늘려주면 됨 (default = 1)\n",
    "    \n",
    "    def __init__(self, in_channels, out_channels, stride=1):\n",
    "        super(BasicBlock, self).__init__()\n",
    "        \n",
    "        self.bn1 = nn.BatchNorm2d(in_channels)\n",
    "        self.conv1 = nn.Conv2d(in_channels, out_channels, kernel_size=3, stride=1, padding=1, bias=False)\n",
    "        \n",
    "        self.bn2 = nn.BatchNorm2d(out_channels)\n",
    "        self.conv2 = nn.Conv2d(out_channels, out_channels, kernel_size=3, stride=1, padding=1, bias=False)\n",
    "                \n",
    "        if stride != 1 or in_channels != self.expansion * out_channels:\n",
    "            self.shortcut = nn.Sequential(\n",
    "                nn.Conv2d(in_channels, self.expansion * out_channels, kernel_size=1, stride=stride, bias=False),\n",
    "                # in_channel과 self.expansion * out_channels 사이의 차이를 보상하기위해 1x1 컨볼루션 진행 \n",
    "                # >>> 더 깊은 네트워크에서 안정적 학습\n",
    "            )\n",
    "        \n",
    "    def forward(self, x):\n",
    "        out = F.relu(self.bn1(x))\n",
    "        residual = out\n",
    "        \n",
    "        out = self.conv1(out)\n",
    "        out = F.relu(self.bn2(out))\n",
    "        out = self.conv2(out)\n",
    "        \n",
    "        if hasattr(self, 'shortcut') :   #  기존 shortcut이 있는지 확인\n",
    "            residual = self.shortcut(x)\n",
    "            \n",
    "        out += residual\n",
    "        \n",
    "        return out"
   ]
  },
  {
   "cell_type": "markdown",
   "id": "5fc6d445",
   "metadata": {},
   "source": [
    "# ResNet 모델 정의"
   ]
  },
  {
   "cell_type": "code",
   "execution_count": 3,
   "id": "f9ba9a3c",
   "metadata": {},
   "outputs": [],
   "source": [
    "class PreActResNet(nn.Module):\n",
    "    def __init__(self, block, layers, num_classes=1000):\n",
    "        super(PreActResNet, self).__init__()\n",
    "        \n",
    "        self.in_Channels = 64\n",
    "        \n",
    "        self.conv1 = nn.Conv2d(3, self.in_Channels, kernel_size=3, stride=2, padding=3, bias=False)\n",
    "        \n",
    "        self.layer1 = self._make_layer(block, 64, layers[0], stride=1)\n",
    "        self.layer2 = self._make_layer(block, 128, layers[1], stride=2)\n",
    "        self.layer3 = self._make_layer(block, 256, layers[2], stride=2)\n",
    "        self.layer4 = self._make_layer(block, 512, layers[3], stride=2)\n",
    "        \n",
    "        self.avgpool = nn.AdaptiveAvgPool2d((1,1))\n",
    "        self.fc = nn.Linear(512 * block.expansion, num_classes)\n",
    "        \n",
    "    def _make_layer(self, block, out_channels, blocks, stride=1): # 내부 매서드 >> ResNet 내에서 반복적으로 사용되는 블록 구성 역할 수행\n",
    "        \n",
    "        layers = []\n",
    "        layers.append(block(self.in_Channels, out_channels, stride=1))\n",
    "        self.in_Channels = out_channels * block.expansion\n",
    "        \n",
    "        for _ in range(1, blocks):\n",
    "            layers.append(block(self.in_Channels, out_channels))\n",
    "            \n",
    "        return nn.Sequential(*layers)  # nn.Sequential >> 모델을 구성하기위한 컨테이너 클래스: 생성된 모든 layer들을 순차적으로 추가해줌\n",
    "    \n",
    "    def forward(self, x):\n",
    "        x = self.conv1(x)\n",
    "        \n",
    "        x = self.layer1(x)\n",
    "        x = self.layer2(x)\n",
    "        x = self.layer3(x)\n",
    "        x = self.layer4(x)\n",
    "        \n",
    "        x = self.avgpool(x)\n",
    "        x = torch.flatten(x,1)\n",
    "        x = self.fc(x)\n",
    "        \n",
    "        return x"
   ]
  },
  {
   "cell_type": "code",
   "execution_count": 7,
   "id": "1c3d0d9d",
   "metadata": {},
   "outputs": [
    {
     "name": "stdout",
     "output_type": "stream",
     "text": [
      "torch.Size([1, 1000])\n",
      "torch.Size([1, 1000])\n"
     ]
    }
   ],
   "source": [
    "def preact_resnet34(num_classes = 1000):\n",
    "    \n",
    "    return PreActResNet(BasicBlock, [3,4,6,3], num_classes)\n",
    "\n",
    "def preact_resnet18(num_classes=1000):\n",
    "    \n",
    "    return PreActResNet(BasicBlock, [2,2,2,2], num_classes)\n",
    "\n",
    "\n",
    "model = preact_resnet34(num_classes = 1000)\n",
    "inputs = torch.randn(1,3,224,224)\n",
    "output = model(inputs)\n",
    "print(output.shape)\n",
    "\n",
    "model = preact_resnet18(num_classes = 1000)\n",
    "inputs = torch.randn(1,3,224,224)\n",
    "output = model(inputs)\n",
    "print(output.shape)"
   ]
  },
  {
   "cell_type": "code",
   "execution_count": null,
   "id": "f7dac999",
   "metadata": {},
   "outputs": [],
   "source": []
  }
 ],
 "metadata": {
  "kernelspec": {
   "display_name": "condatorch",
   "language": "python",
   "name": "condatorch"
  },
  "language_info": {
   "codemirror_mode": {
    "name": "ipython",
    "version": 3
   },
   "file_extension": ".py",
   "mimetype": "text/x-python",
   "name": "python",
   "nbconvert_exporter": "python",
   "pygments_lexer": "ipython3",
   "version": "3.8.16"
  }
 },
 "nbformat": 4,
 "nbformat_minor": 5
}
