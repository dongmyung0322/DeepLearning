{
 "cells": [
  {
   "cell_type": "code",
   "execution_count": 3,
   "id": "1d6d6258",
   "metadata": {},
   "outputs": [],
   "source": [
    "import torch\n",
    "import torch.nn as nn\n",
    "import torchvision\n",
    "from torchvision import transforms\n",
    "import torchvision.utils as vutils\n",
    "from torch.utils.data import DataLoader"
   ]
  },
  {
   "cell_type": "code",
   "execution_count": 5,
   "id": "af9d0211",
   "metadata": {},
   "outputs": [],
   "source": [
    "class RBM(nn.Module):\n",
    "    def __init__(self, visible_size, hidden_size):\n",
    "        super(RBM,self).__init__()\n",
    "        self.W = nn.Parameter(torch.randn(visible_size, hidden_size))\n",
    "        self.v_bias = nn.Parameter(torch.randn(visible_size))\n",
    "        self.h_bias = nn.Parameter(torch.randn(hidden_size))\n",
    "        \n",
    "    def forward(self,x):\n",
    "        # 은닉층의 확률값\n",
    "        hidden_prob = torch.sigmoid(torch.matmul(x, self.W) + self.h_bias)  # torch.matmul = 행렬곱\n",
    "        # 확률값 > 함수화\n",
    "        hidden_state = torch.bernoulli(hidden_prob)\n",
    "        # 가시층의 확률값\n",
    "        visible_prob = torch.sigmoid(torch.matmul(hidden_state, torch.transpose(self.W, 0, 1))+self.v_bias) \n",
    "        # torch.transpose = 전치행렬, (0,1) = 출력값 크기 지정\n",
    "        return visible_prob, hidden_state"
   ]
  },
  {
   "cell_type": "code",
   "execution_count": 11,
   "id": "908caa43",
   "metadata": {},
   "outputs": [],
   "source": [
    "transform = transforms.Compose([transforms.ToTensor(), transforms.Normalize((0.5,), (0.5,))])\n",
    "train_dataset = torchvision.datasets.MNIST(root='./data', train=True, transform=transform, download=True)\n",
    "train_loader = torch.utils.data.DataLoader(train_dataset, batch_size=64, shuffle=True)\n",
    "\n",
    "visible_size = 28*28 # MNIST 이미지 크기 28*28\n",
    "hidden_size = 256\n",
    "rbm = RBM(visible_size, hidden_size)\n",
    "\n",
    "criterion = nn.BCELoss()\n",
    "optimizer = torch.optim.SGD(rbm.parameters(), lr=0.01)"
   ]
  },
  {
   "cell_type": "code",
   "execution_count": 12,
   "id": "d382e1b4",
   "metadata": {},
   "outputs": [
    {
     "name": "stdout",
     "output_type": "stream",
     "text": [
      "Epoch: 1, Loss: 3.9591\n",
      "Epoch: 2, Loss: 1.2509\n",
      "Epoch: 3, Loss: -1.1453\n",
      "Epoch: 4, Loss: -3.6860\n",
      "Epoch: 5, Loss: -5.7566\n",
      "Epoch: 6, Loss: -7.9294\n",
      "Epoch: 7, Loss: -9.5972\n",
      "Epoch: 8, Loss: -11.1037\n",
      "Epoch: 9, Loss: -12.8195\n",
      "Epoch: 10, Loss: -13.9716\n"
     ]
    }
   ],
   "source": [
    "for epoch in range(10):\n",
    "    for images, _ in train_loader:\n",
    "        # 입력 데이터 이진화\n",
    "        inputs = images.view(-1, visible_size)\n",
    "        \n",
    "        visible_prob, _ = rbm(inputs)\n",
    "        loss = criterion(visible_prob, inputs)\n",
    "        \n",
    "        optimizer.zero_grad()\n",
    "        loss.backward()\n",
    "        optimizer.step()\n",
    "    \n",
    "    print(f'Epoch: {epoch+1}, Loss: {loss:.4f}')\n",
    "    \n",
    "    # 가중치 이미지 저장\n",
    "    #vutils.save_image(rbm.W.view(hidden_size, 1, 28, 28), f'weights_epoch_{epoch+1}.png', normalize=True)\n",
    "    \n",
    "    # 입력 이미지 & 재출력 이미지 저장\n",
    "    inputs_display = inputs.view(-1,1,28,28)  # 앞서 데이터를 넣을때 1차원으로 넣었는데 그걸다시 풀어서 되돌림\n",
    "    outputs_display = visible_prob.view(-1,1,28,28)\n",
    "    comparison = torch.cat([inputs_display, outputs_display], dim=3)\n",
    "    #vutils.save_image(comparison, f'reconstruction_epoch_{epoch+1}.png', normalize=True)"
   ]
  },
  {
   "cell_type": "code",
   "execution_count": null,
   "id": "14473223",
   "metadata": {},
   "outputs": [],
   "source": []
  }
 ],
 "metadata": {
  "kernelspec": {
   "display_name": "condatorch",
   "language": "python",
   "name": "condatorch"
  },
  "language_info": {
   "codemirror_mode": {
    "name": "ipython",
    "version": 3
   },
   "file_extension": ".py",
   "mimetype": "text/x-python",
   "name": "python",
   "nbconvert_exporter": "python",
   "pygments_lexer": "ipython3",
   "version": "3.8.16"
  }
 },
 "nbformat": 4,
 "nbformat_minor": 5
}
