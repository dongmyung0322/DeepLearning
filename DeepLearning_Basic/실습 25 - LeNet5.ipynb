{
 "cells": [
  {
   "cell_type": "code",
   "execution_count": 1,
   "id": "d05fee00",
   "metadata": {},
   "outputs": [],
   "source": [
    "import torch\n",
    "import torch.nn as nn\n",
    "import torch.optim as optim\n",
    "import torchvision\n",
    "import torchvision.transforms as transforms"
   ]
  },
  {
   "cell_type": "code",
   "execution_count": 2,
   "id": "85c2ef5f",
   "metadata": {},
   "outputs": [],
   "source": [
    "transform = transforms.Compose([\n",
    "    transforms.ToTensor(),\n",
    "    transforms.Normalize((0.5,0.5,0.5), (0.5,0.5,0.5))\n",
    "])\n",
    "\n",
    "train_set = torchvision.datasets.CIFAR10(root='./data', train=True, download=False, transform=transform)\n",
    "train_loader = torch.utils.data.DataLoader(train_set, batch_size=64, shuffle=True)\n",
    "\n",
    "test_set = torchvision.datasets.CIFAR10(root='./data', train=False, download=False, transform=transform)\n",
    "test_loader = torch.utils.data.DataLoader(test_set, batch_size=64)"
   ]
  },
  {
   "cell_type": "code",
   "execution_count": 3,
   "id": "59ee5e41",
   "metadata": {},
   "outputs": [],
   "source": [
    "class RFNet(nn.Module):\n",
    "    def __init__(self):\n",
    "        super(RFNet, self).__init__()\n",
    "        self.conv1 = nn.Conv2d(3, 32, 3)\n",
    "        self.pool = nn.MaxPool2d(2, 2)\n",
    "        self.conv2 = nn.Conv2d(32, 64, 3)\n",
    "        self.fc1 = nn.Linear(64*6*6, 64)    # 크기조정\n",
    "        self.fc2 = nn.Linear(64, 10)\n",
    "        \n",
    "    def forward(self, x):\n",
    "        x = self.pool(torch.relu(self.conv1(x)))\n",
    "        x = self.pool(torch.relu(self.conv2(x)))\n",
    "        x = torch.flatten(x,1) # 1차원으로 펼치기\n",
    "        x = torch.relu(self.fc1(x))\n",
    "        x = self.fc2(x)\n",
    "        return x"
   ]
  },
  {
   "cell_type": "code",
   "execution_count": 4,
   "id": "ae1ae577",
   "metadata": {},
   "outputs": [],
   "source": [
    "def train_and_validate(model):\n",
    "    criterion = nn.CrossEntropyLoss()\n",
    "    optimizer = optim.SGD(model.parameters(), lr=0.001, momentum=0.9)\n",
    "    \n",
    "    for epoch in range(5):\n",
    "        running_loss = 0.0\n",
    "        for i, data in enumerate(train_loader, 0):\n",
    "            inputs, labels = data\n",
    "            output = model(inputs)\n",
    "            loss = criterion(output, labels)\n",
    "\n",
    "            optimizer.zero_grad()\n",
    "            loss.backward()\n",
    "            optimizer.step()\n",
    "\n",
    "            running_loss+=loss.item()\n",
    "            if i%200 == 199:\n",
    "                print('[%d, %5d] loss: %.3f' %(epoch+1, i+1, running_loss/200))\n",
    "                running_loss = 0.0\n",
    "            \n",
    "    print('finish_training')\n",
    "\n",
    "    correct = 0\n",
    "    total = 0\n",
    "    with torch.no_grad():\n",
    "        for data in test_loader:\n",
    "            images, labels = data\n",
    "            outputs = model(images)\n",
    "            _,predicted = torch.max(outputs.data, 1)\n",
    "            total += labels.size(0)\n",
    "            correct += (predicted==labels).sum().item()\n",
    "\n",
    "    accuracy = 100 * correct/total\n",
    "    print(f'accuracy: {accuracy:.2f}')"
   ]
  },
  {
   "cell_type": "code",
   "execution_count": 5,
   "id": "d4772665",
   "metadata": {},
   "outputs": [
    {
     "name": "stdout",
     "output_type": "stream",
     "text": [
      "[1,   200] loss: 2.290\n",
      "[1,   400] loss: 2.208\n",
      "[1,   600] loss: 2.036\n",
      "[2,   200] loss: 1.834\n",
      "[2,   400] loss: 1.788\n",
      "[2,   600] loss: 1.742\n",
      "[3,   200] loss: 1.642\n",
      "[3,   400] loss: 1.603\n",
      "[3,   600] loss: 1.557\n",
      "[4,   200] loss: 1.482\n",
      "[4,   400] loss: 1.461\n",
      "[4,   600] loss: 1.444\n",
      "[5,   200] loss: 1.396\n",
      "[5,   400] loss: 1.372\n",
      "[5,   600] loss: 1.349\n",
      "finish_training\n",
      "accuracy: 53.44\n",
      "Num of param\n",
      "RFNet 167562\n"
     ]
    }
   ],
   "source": [
    "rf_model = RFNet()\n",
    "train_and_validate(rf_model)\n",
    "\n",
    "print('Num of param')\n",
    "print('RFNet', sum(p.numel() for p in rf_model.parameters()))"
   ]
  },
  {
   "cell_type": "code",
   "execution_count": null,
   "id": "4ec78085",
   "metadata": {},
   "outputs": [],
   "source": []
  }
 ],
 "metadata": {
  "kernelspec": {
   "display_name": "condatorch",
   "language": "python",
   "name": "condatorch"
  },
  "language_info": {
   "codemirror_mode": {
    "name": "ipython",
    "version": 3
   },
   "file_extension": ".py",
   "mimetype": "text/x-python",
   "name": "python",
   "nbconvert_exporter": "python",
   "pygments_lexer": "ipython3",
   "version": "3.8.16"
  }
 },
 "nbformat": 4,
 "nbformat_minor": 5
}
