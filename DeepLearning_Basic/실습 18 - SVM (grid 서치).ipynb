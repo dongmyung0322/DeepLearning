{
 "cells": [
  {
   "cell_type": "code",
   "execution_count": 10,
   "id": "aaeeea92",
   "metadata": {},
   "outputs": [],
   "source": [
    "import numpy as np\n",
    "from sklearn.model_selection import GridSearchCV\n",
    "from sklearn.pipeline import Pipeline\n",
    "from sklearn.preprocessing import StandardScaler\n",
    "from sklearn.svm import SVC"
   ]
  },
  {
   "cell_type": "code",
   "execution_count": 11,
   "id": "da1341c8",
   "metadata": {},
   "outputs": [
    {
     "name": "stdout",
     "output_type": "stream",
     "text": [
      "Best Param:  {'svm__C': 0.1, 'svm__gamma': 'scale', 'svm__kernel': 'rbf'}\n",
      "Best Cross Validation score:  0.5799999999999998\n"
     ]
    }
   ],
   "source": [
    "# 데이터 생성\n",
    "rng = np.random.RandomState(0)\n",
    "x = rng.randn(100, 10)\n",
    "y = rng.binomial(1, 0.5, 100)\n",
    "\n",
    "#파이프 라인 구성\n",
    "svm_pipeline = Pipeline([\n",
    "    ('scaler', StandardScaler()),\n",
    "    ('svm', SVC())\n",
    "])\n",
    "\n",
    "# 탐색할 파라미터 설정\n",
    "param_grid = {\n",
    "    'svm__C':[0.1, 1, 10],\n",
    "    'svm__kernel' : ['linear', 'rbf'],\n",
    "    'svm__gamma' : ['scale', 'auto']\n",
    "}\n",
    "\n",
    "# 그리드 서치 수행\n",
    "grid_search = GridSearchCV(svm_pipeline, param_grid, cv=5)\n",
    "grid_search.fit(x,y)\n",
    "\n",
    "print('Best Param: ', grid_search.best_params_)\n",
    "print('Best Cross Validation score: ', grid_search.best_score_)"
   ]
  },
  {
   "cell_type": "code",
   "execution_count": null,
   "id": "b32d4965",
   "metadata": {},
   "outputs": [],
   "source": []
  }
 ],
 "metadata": {
  "kernelspec": {
   "display_name": "condatorch",
   "language": "python",
   "name": "condatorch"
  },
  "language_info": {
   "codemirror_mode": {
    "name": "ipython",
    "version": 3
   },
   "file_extension": ".py",
   "mimetype": "text/x-python",
   "name": "python",
   "nbconvert_exporter": "python",
   "pygments_lexer": "ipython3",
   "version": "3.8.16"
  }
 },
 "nbformat": 4,
 "nbformat_minor": 5
}
