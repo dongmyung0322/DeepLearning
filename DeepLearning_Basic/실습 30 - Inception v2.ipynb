{
 "cells": [
  {
   "cell_type": "code",
   "execution_count": 1,
   "id": "783f85f2",
   "metadata": {},
   "outputs": [],
   "source": [
    "import torch\n",
    "import torch.nn as nn\n",
    "import torch.nn.functional as F"
   ]
  },
  {
   "cell_type": "markdown",
   "id": "79f0f0b2",
   "metadata": {},
   "source": [
    "# Inception 블록"
   ]
  },
  {
   "cell_type": "code",
   "execution_count": 2,
   "id": "0082a2f5",
   "metadata": {},
   "outputs": [],
   "source": [
    "class InceptionModule(nn.Module):\n",
    "    def __init__(self, in_channels, out_1x1, reduce_3x3, out_3x3, reduce_5x5, out_5x5, out_pool):\n",
    "        super(InceptionModule, self).__init__()\n",
    "        \n",
    "        # 1x1 convolution branch\n",
    "        self.conv1x1 = nn.Conv2d(in_channels, out1x1, kernel_size=1)\n",
    "        \n",
    "        # 3x3 convolution branch\n",
    "        self.conv3x3_reduce = nn.Conv2d(in_channels, reduce_3x3, kernel_size=1) # 입력 채널을 줄여줌\n",
    "        self.conv3x3 = nn.Conv2d(reduce3x3, out_3x3, kernel_size=3, padding=1)\n",
    "        \n",
    "        \n",
    "        # 5x5 convolution branch\n",
    "        self.conv5x5_reduce = nn.Conv2d(in_channels, reduce_5x5, kernel_size=1)\n",
    "        self.conv5x5 = nn.Conv2d(reduce_5x5, out_5x5, kernel_size=5, padding=2)\n",
    "        \n",
    "        # max pooling branch\n",
    "        self.pool = nn.MaxPool2d(kernel_size=3, stride=1, padding=1)\n",
    "        self.conv_pool = nn.Conv2d(in_channels, out_pool, kernel_size=1)\n",
    "        \n",
    "    def forward(self, x):\n",
    "        # 1x1 conv\n",
    "        out_1x1 = F.relu(self.conv1x1(x))\n",
    "        \n",
    "        # 3x3 conv\n",
    "        out_3x3 = F.relu(self.conv3x3_reduce(x))\n",
    "        out_3x3 = F.relu(self.conv3x3(out_3x3))\n",
    "        \n",
    "        # 5x5 conv\n",
    "        out_5x5 = F.relu(self.conv5x5_reduce(x))\n",
    "        out_5x5 = F.relu(self.conv5x5(out_5x5))\n",
    "        \n",
    "        # Max pooling\n",
    "        out_pool = F.relu(self.conv_pool(self.pool(x)))\n",
    "        \n",
    "        # Concatenate all \n",
    "        out = torch.cat([out_1x1, out_3x3, out_5x5, out_pool], dim=1)\n",
    "        \n",
    "        return out"
   ]
  },
  {
   "cell_type": "markdown",
   "id": "6278ce42",
   "metadata": {},
   "source": [
    "# Inception 모델 정의"
   ]
  },
  {
   "cell_type": "code",
   "execution_count": 3,
   "id": "c83a0dbf",
   "metadata": {},
   "outputs": [],
   "source": [
    "class InceptionV2(nn.Module):\n",
    "    def __init__(self, num_classes=1000):\n",
    "        super(InceptionV2, self).__init__()\n",
    "        \n",
    "        # Stem layers\n",
    "        self.stem = nn.Sequential(\n",
    "            nn.Conv2d(3, 64, kernel_size=7, stride=2, padding=3), # padding=3 >> 가장자리 값의 정보 손실 방지\n",
    "            nn.ReLU(inplace=True),\n",
    "            nn.MaxPool2d(kernel_size=3, stride=2, padding=1) # padding=1 >> 가장자리 값의 정보 손실 방지\n",
    "        )\n",
    "        # Inception module\n",
    "        self.inception3a = InceptionModule(64, 64, 96, 128, 16, 32, 32) \n",
    "        self.inception3b = InceptionModule(256, 128, 128, 192, 32, 96, 64)\n",
    "        self.inception4a = InceptionModule(480, 192, 96, 203, 16, 48, 64)\n",
    "        self.inception4b = InceptionModule(512, 160, 112, 224, 24, 64, 64)\n",
    "        self.inception4c = InceptionModule(512, 128, 128, 256, 24, 64, 64)\n",
    "        self.inception4d = InceptionModule(512, 112, 144, 288, 32, 64, 64)  \n",
    "        self.inception4e = InceptionModule(528, 256, 160, 320, 32, 128, 128)\n",
    "        self.inception5a = InceptionModule(832, 256, 160, 320, 32, 128, 128)\n",
    "        self.inception5b = InceptionModule(832, 384, 192, 384, 48, 128, 128)\n",
    "        \n",
    "        # avg pool\n",
    "        self.avg_pool = nn.AdaptiveAvgPool2d((1,1))\n",
    "        self.fc = nn.Linear(1024, num_classes)\n",
    "        \n",
    "    def forward(self, x):\n",
    "        \n",
    "        # Stem layer\n",
    "        x = self.stem(x)\n",
    "        \n",
    "        # inception\n",
    "        x = self.inception3a(x)\n",
    "        x = self.inception3b(x)\n",
    "        x = F.max_pool2d(x, kernel_size=3, stride=2, padding=1)\n",
    "        x = self.inception4a(x)\n",
    "        x = self.inception4b(x)\n",
    "        x = self.inception4c(x)\n",
    "        x = self.inception4d(x)\n",
    "        x = self.inception4e(x)\n",
    "        x = F.max_pool2d(x, kernel_size=3, stride=2, padding=1)\n",
    "        x = self.inception5a(x)\n",
    "        x = self.inception5b(x)\n",
    "        \n",
    "        # avg pool\n",
    "        x = self.avg_pool(x)\n",
    "        x = torch.flatten(x, 1)\n",
    "        x = self.fc(x)\n",
    "        \n",
    "        return x\n",
    "        "
   ]
  },
  {
   "cell_type": "code",
   "execution_count": null,
   "id": "5c4994e9",
   "metadata": {},
   "outputs": [],
   "source": []
  }
 ],
 "metadata": {
  "kernelspec": {
   "display_name": "condatorch",
   "language": "python",
   "name": "condatorch"
  },
  "language_info": {
   "codemirror_mode": {
    "name": "ipython",
    "version": 3
   },
   "file_extension": ".py",
   "mimetype": "text/x-python",
   "name": "python",
   "nbconvert_exporter": "python",
   "pygments_lexer": "ipython3",
   "version": "3.8.16"
  }
 },
 "nbformat": 4,
 "nbformat_minor": 5
}
