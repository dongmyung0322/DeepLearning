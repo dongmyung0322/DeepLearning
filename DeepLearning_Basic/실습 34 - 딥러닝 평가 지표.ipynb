{
 "cells": [
  {
   "cell_type": "code",
   "execution_count": 1,
   "id": "e7f6496a",
   "metadata": {},
   "outputs": [],
   "source": [
    "import torch\n",
    "import torch.nn\n",
    "import math"
   ]
  },
  {
   "cell_type": "code",
   "execution_count": 2,
   "id": "97f3ec19",
   "metadata": {},
   "outputs": [],
   "source": [
    "pred = torch.tensor([3.1, 4.2, 2.8, 5.3])\n",
    "targets = torch.tensor([3.0, 4.0, 3.0, 5.0])"
   ]
  },
  {
   "cell_type": "markdown",
   "id": "27b4ffe8",
   "metadata": {},
   "source": [
    "# 평균 절대 오차"
   ]
  },
  {
   "cell_type": "code",
   "execution_count": 3,
   "id": "adc9aa3e",
   "metadata": {},
   "outputs": [
    {
     "name": "stdout",
     "output_type": "stream",
     "text": [
      "MAE:  0.19999998807907104\n"
     ]
    }
   ],
   "source": [
    "def calculate_mae(prediction, targets):\n",
    "    mae = torch.mean(torch.abs(prediction - targets))\n",
    "    return mae\n",
    "\n",
    "mae = calculate_mae(pred, targets)\n",
    "print('MAE: ', mae.item())"
   ]
  },
  {
   "cell_type": "markdown",
   "id": "b8ebfb98",
   "metadata": {},
   "source": [
    "# 평균 제곱 오차"
   ]
  },
  {
   "cell_type": "code",
   "execution_count": 4,
   "id": "4a0fc3f6",
   "metadata": {},
   "outputs": [
    {
     "name": "stdout",
     "output_type": "stream",
     "text": [
      "MSE:  0.04500000923871994\n"
     ]
    }
   ],
   "source": [
    "def calculate_mse(prediction, targets):\n",
    "    mse = torch.mean(torch.abs(prediction - targets)**2)\n",
    "    return mse\n",
    "\n",
    "mse = calculate_mse(pred, targets)\n",
    "print('MSE: ', mse.item())"
   ]
  },
  {
   "cell_type": "markdown",
   "id": "3d64fadc",
   "metadata": {},
   "source": [
    "# 평균 제곱근 오차"
   ]
  },
  {
   "cell_type": "code",
   "execution_count": 5,
   "id": "58810ba5",
   "metadata": {},
   "outputs": [
    {
     "name": "stdout",
     "output_type": "stream",
     "text": [
      "RMSE:  0.21213205613183486\n"
     ]
    }
   ],
   "source": [
    "def calculate_rmse(prediction, targets):\n",
    "    mae = torch.mean(torch.abs(prediction - targets)**2)\n",
    "    rmse = math.sqrt(mae)\n",
    "    return rmse\n",
    "\n",
    "rmse = calculate_rmse(pred, targets)\n",
    "print('RMSE: ', rmse)"
   ]
  },
  {
   "cell_type": "markdown",
   "id": "8ec81af8",
   "metadata": {},
   "source": [
    "# 평균 절대 비율 오차"
   ]
  },
  {
   "cell_type": "code",
   "execution_count": 6,
   "id": "775ef73b",
   "metadata": {},
   "outputs": [
    {
     "name": "stdout",
     "output_type": "stream",
     "text": [
      "MAPE:  5.249999523162842\n"
     ]
    }
   ],
   "source": [
    "def calculate_mape(prediction, targets):\n",
    "    absolute_error = torch.abs(prediction - targets)\n",
    "    relative_error = absolute_error / targets\n",
    "    mape = torch.mean(relative_error) * 100\n",
    "    return mape\n",
    "\n",
    "mape = calculate_mape(pred, targets)\n",
    "print('MAPE: ', mape.item())"
   ]
  },
  {
   "cell_type": "markdown",
   "id": "1ba8f4f1",
   "metadata": {},
   "source": [
    "# 혼동 행렬 오차 행렬"
   ]
  },
  {
   "cell_type": "code",
   "execution_count": 7,
   "id": "cebb3136",
   "metadata": {},
   "outputs": [],
   "source": [
    "import matplotlib.pyplot as plt\n",
    "import seaborn as sns\n",
    "from sklearn.metrics import confusion_matrix"
   ]
  },
  {
   "cell_type": "code",
   "execution_count": 13,
   "id": "4730655d",
   "metadata": {},
   "outputs": [
    {
     "data": {
      "image/png": "[encoded data removed]",
      "text/plain": [
       "<Figure size 800x600 with 2 Axes>"
      ]
     },
     "metadata": {},
     "output_type": "display_data"
    }
   ],
   "source": [
    "actual_labels = [0, 1, 2, 1, 2, 0, 1, 2, 2, 0]\n",
    "predicted_labels = [0, 1, 1, 1, 2, 0, 1, 2, 2, 0]\n",
    "class_labels = ['Class 0', 'Class 1', 'Class 2']\n",
    "\n",
    "cm = confusion_matrix(actual_labels, predicted_labels)\n",
    "\n",
    "plt.figure(figsize=(8,6))\n",
    "sns.heatmap(cm, annot=True, fmt='d', cmap='Blues', xticklabels=class_labels, yticklabels=class_labels)\n",
    "plt.title('Confusion matrix')\n",
    "plt.xlabel('Predicted labels')\n",
    "plt.ylabel('Actual labels')\n",
    "plt.show()"
   ]
  },
  {
   "cell_type": "markdown",
   "id": "99820f75",
   "metadata": {},
   "source": [
    "# 정밀도"
   ]
  },
  {
   "cell_type": "code",
   "execution_count": 10,
   "id": "f0a3754a",
   "metadata": {},
   "outputs": [],
   "source": [
    "from sklearn.metrics import precision_score"
   ]
  },
  {
   "cell_type": "code",
   "execution_count": 19,
   "id": "0a9843b5",
   "metadata": {},
   "outputs": [
    {
     "name": "stdout",
     "output_type": "stream",
     "text": [
      "precision:  0.8\n"
     ]
    }
   ],
   "source": [
    "# 1이라고 예측한 것중 정답이 1인 비율\n",
    "actual_labels = [1, 0, 0, 1, 1, 0, 1, 1, 0, 1]\n",
    "predicted_labels = [1, 0, 1, 1, 0, 0, 1, 0, 0, 1]\n",
    "precision = precision_score(actual_labels, predicted_labels)\n",
    "print('precision: ', precision)"
   ]
  },
  {
   "cell_type": "markdown",
   "id": "566aaeea",
   "metadata": {},
   "source": [
    "# 재현율"
   ]
  },
  {
   "cell_type": "code",
   "execution_count": 14,
   "id": "f6aa4a17",
   "metadata": {},
   "outputs": [],
   "source": [
    "from sklearn.metrics import recall_score"
   ]
  },
  {
   "cell_type": "code",
   "execution_count": 20,
   "id": "626a40c6",
   "metadata": {},
   "outputs": [
    {
     "name": "stdout",
     "output_type": "stream",
     "text": [
      "recall:  0.6666666666666666\n"
     ]
    }
   ],
   "source": [
    "# 정답이 1인 것들중 1이라고 예측한 비율\n",
    "recall = recall_score(actual_labels, predicted_labels)\n",
    "print('recall: ', recall)"
   ]
  },
  {
   "cell_type": "markdown",
   "id": "7879c00e",
   "metadata": {},
   "source": [
    "# f1 Score"
   ]
  },
  {
   "cell_type": "code",
   "execution_count": 21,
   "id": "5834cefb",
   "metadata": {},
   "outputs": [],
   "source": [
    "from sklearn.metrics import f1_score"
   ]
  },
  {
   "cell_type": "code",
   "execution_count": 22,
   "id": "07aa4239",
   "metadata": {},
   "outputs": [
    {
     "name": "stdout",
     "output_type": "stream",
     "text": [
      "f1:  0.7272727272727272\n"
     ]
    }
   ],
   "source": [
    "# 정밀도와 재현율의 조화 평균\n",
    "f1 = f1_score(actual_labels, predicted_labels)\n",
    "print('f1: ', f1)"
   ]
  },
  {
   "cell_type": "code",
   "execution_count": null,
   "id": "29fa378a",
   "metadata": {},
   "outputs": [],
   "source": []
  }
 ],
 "metadata": {
  "kernelspec": {
   "display_name": "condatorch",
   "language": "python",
   "name": "condatorch"
  },
  "language_info": {
   "codemirror_mode": {
    "name": "ipython",
    "version": 3
   },
   "file_extension": ".py",
   "mimetype": "text/x-python",
   "name": "python",
   "nbconvert_exporter": "python",
   "pygments_lexer": "ipython3",
   "version": "3.8.16"
  }
 },
 "nbformat": 4,
 "nbformat_minor": 5
}
