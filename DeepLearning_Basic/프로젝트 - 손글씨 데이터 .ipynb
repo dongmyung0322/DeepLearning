{
 "cells": [
  {
   "cell_type": "code",
   "execution_count": 1,
   "id": "774cbd3e",
   "metadata": {},
   "outputs": [],
   "source": [
    "import os\n",
    "import glob\n",
    "import albumentations as A\n",
    "from PIL import Image\n",
    "from torch.utils.data import Dataset, DataLoader, random_split\n",
    "from torchvision import transforms\n",
    "\n",
    "import torch\n",
    "import torch.nn as nn\n",
    "import torch.optim as optim\n",
    "from sklearn.model_selection import train_test_split"
   ]
  },
  {
   "cell_type": "code",
   "execution_count": 2,
   "id": "d2b59dc1",
   "metadata": {},
   "outputs": [],
   "source": [
    "class myCustomdataset(Dataset):\n",
    "    def __init__(self, img_path, transform):\n",
    "        self.img_paths = glob.glob(os.path.join(img_path,'*'))\n",
    "        self.transform = transform\n",
    "    \n",
    "    def __getitem__(self, index):\n",
    "        img_path = self.img_paths[index]\n",
    "        img = Image.open(img_path).convert('L')\n",
    "        #img = transforms.ToTensor()(img)\n",
    "        #img = transforms.Resize((28,28))(img)\n",
    "        \n",
    "        label = img_path.split('_')[2]\n",
    "        label = int(label.split('.')[0])\n",
    "        \n",
    "        if self.transform:\n",
    "            img = self.transform(img)\n",
    "            \n",
    "        return img, label\n",
    "    \n",
    "    def __len__(self):\n",
    "        return len(self.img_paths)"
   ]
  },
  {
   "cell_type": "code",
   "execution_count": 3,
   "id": "7ca89204",
   "metadata": {
    "scrolled": true
   },
   "outputs": [],
   "source": [
    "transform = transforms.Compose([\n",
    "    transforms.Resize((28,28)),\n",
    "    transforms.ToTensor()\n",
    "])\n",
    "\n",
    "data_set = myCustomdataset('./data/hand_written/', transform=transform)\n",
    "\n",
    "test_len = int(len(data_set)*0.2)\n",
    "train_len = len(data_set) - test_len\n",
    "\n",
    "train_subset, test_subset = random_split(data_set, [train_len, test_len]) # (나눠야할 데이터 셋, 각각 나눌 갯수(정수 갯수))\n",
    "train_dataset = train_subset.dataset\n",
    "test_dataset = test_subset.dataset\n",
    "\n",
    "train_loader = DataLoader(train_dataset, 32, shuffle=True)\n",
    "test_loader = DataLoader(test_dataset, 32, shuffle=True)"
   ]
  },
  {
   "cell_type": "code",
   "execution_count": 4,
   "id": "528541c7",
   "metadata": {},
   "outputs": [],
   "source": [
    "class CNN(nn.Module):\n",
    "    def __init__(self):\n",
    "        super(CNN, self).__init__()\n",
    "        self.conv1 = nn.Conv2d(1, 16, kernel_size=3, stride=1, padding=1)\n",
    "        self.relu = nn.ReLU()\n",
    "        self.pool = nn.MaxPool2d(kernel_size=2, stride=2)\n",
    "        self.conv2 = nn.Conv2d(16, 32, kernel_size=3, stride=1, padding=1)\n",
    "        self.fc = nn.Linear(32*7*7, 10)\n",
    "    \n",
    "    def forward(self,x):\n",
    "        x = self.conv1(x)\n",
    "        x = self.relu(x)\n",
    "        x = self.pool(x)\n",
    "        x = self.conv2(x)\n",
    "        x = self.relu(x)\n",
    "        x = self.pool(x)\n",
    "        x = x.view(x.size(0), -1)\n",
    "        x = self.fc(x)\n",
    "        return x"
   ]
  },
  {
   "cell_type": "code",
   "execution_count": 5,
   "id": "6f6bad28",
   "metadata": {},
   "outputs": [],
   "source": [
    "device = torch.device('cuda' if torch.cuda.is_available() else 'cpu')\n",
    "model = CNN().to(device)\n",
    "\n",
    "criterion = nn.CrossEntropyLoss()\n",
    "optimizer = optim.Adam(model.parameters(), lr=0.001)\n",
    "\n",
    "num_epochs = 10"
   ]
  },
  {
   "cell_type": "code",
   "execution_count": 6,
   "id": "55528909",
   "metadata": {},
   "outputs": [
    {
     "name": "stdout",
     "output_type": "stream",
     "text": [
      "Epoch: 1, Loss: 70.70987141132355\n",
      "Epoch: 2, Loss: 70.14913642406464\n",
      "Epoch: 3, Loss: 69.96906065940857\n",
      "Epoch: 4, Loss: 69.57421898841858\n",
      "Epoch: 5, Loss: 68.82429587841034\n",
      "Epoch: 6, Loss: 67.42434883117676\n",
      "Epoch: 7, Loss: 65.44997024536133\n",
      "Epoch: 8, Loss: 63.514851212501526\n",
      "Epoch: 9, Loss: 60.60713994503021\n",
      "Epoch: 10, Loss: 58.412759363651276\n"
     ]
    }
   ],
   "source": [
    "for epoch in range(num_epochs):\n",
    "    running_loss = 0.0\n",
    "    for imgs, labels in train_loader:\n",
    "        imgs = imgs.to(device)\n",
    "        labels = labels.to(device)\n",
    "        \n",
    "        output = model(imgs)\n",
    "        loss = criterion(output,labels).to(device)\n",
    "        \n",
    "        optimizer.zero_grad()\n",
    "        loss.backward()\n",
    "        optimizer.step()\n",
    "        \n",
    "        running_loss += loss.item() * imgs.size(0)\n",
    "    \n",
    "    epoch_loss = running_loss / len(train_loader)\n",
    "    print(f'Epoch: {epoch+1}, Loss: {epoch_loss}')"
   ]
  },
  {
   "cell_type": "code",
   "execution_count": 7,
   "id": "a51bd1f9",
   "metadata": {},
   "outputs": [
    {
     "name": "stdout",
     "output_type": "stream",
     "text": [
      "test accuracy: 42.01\n"
     ]
    }
   ],
   "source": [
    "model.eval()\n",
    "correct = 0\n",
    "total = 0\n",
    "\n",
    "with torch.no_grad():\n",
    "    for imgs, labels in test_loader:\n",
    "        imgs = imgs.to(device)\n",
    "        labels = labels.to(device)\n",
    "        \n",
    "        outputs = model(imgs)\n",
    "        _, predicted = torch.max(outputs.data, 1)\n",
    "        \n",
    "        labels = [int(label) for label in labels]\n",
    "        labels = torch.tensor(labels)\n",
    "        \n",
    "        total += labels.size(0)\n",
    "        correct += (predicted == labels).sum().item()\n",
    "        \n",
    "    accuracy = 100 * correct / total\n",
    "    print(f'test accuracy: {accuracy:.2f}')"
   ]
  },
  {
   "cell_type": "code",
   "execution_count": null,
   "id": "f96d7cfd",
   "metadata": {},
   "outputs": [],
   "source": []
  }
 ],
 "metadata": {
  "kernelspec": {
   "display_name": "condatorch",
   "language": "python",
   "name": "condatorch"
  },
  "language_info": {
   "codemirror_mode": {
    "name": "ipython",
    "version": 3
   },
   "file_extension": ".py",
   "mimetype": "text/x-python",
   "name": "python",
   "nbconvert_exporter": "python",
   "pygments_lexer": "ipython3",
   "version": "3.8.16"
  }
 },
 "nbformat": 4,
 "nbformat_minor": 5
}
