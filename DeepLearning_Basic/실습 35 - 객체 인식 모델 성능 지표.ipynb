{
 "cells": [
  {
   "cell_type": "markdown",
   "id": "68258cc9",
   "metadata": {},
   "source": [
    "# IOU"
   ]
  },
  {
   "cell_type": "code",
   "execution_count": 1,
   "id": "e160f2d0",
   "metadata": {},
   "outputs": [],
   "source": [
    "def calculate_lou(bbox1, bbox2):\n",
    "    x1_1, y1_1, x2_1, y2_1 = bbox1\n",
    "    x1_2, y1_2, x2_2, y2_2 = bbox2\n",
    "    \n",
    "    # 교차 영역의 좌표계산\n",
    "    x_left = max(x1_1, x1_2)\n",
    "    y_top = max(y1_1, y1_2)\n",
    "    x_right = max(x2_1, x2_2)\n",
    "    y_bottom = max(y2_1, y2_2)\n",
    "    \n",
    "    # 교차 영역의 넓이 계산\n",
    "    intersection_area = max(0, x_right - x_left +1) * max(0, y_bottom - y_top +1)\n",
    "    \n",
    "    # 각 영역의 넓이 계산\n",
    "    bbox1_area = (x2_1 - x1_1 +1) * (y2_1 - y1_1 +1)\n",
    "    bbox2_area = (x2_2 - x1_2 +1) * (y2_2 - y1_2 +1)\n",
    "    \n",
    "    iou = intersection_area / (bbox1_area + bbox2_area - intersection_area)\n",
    "    \n",
    "    return iou"
   ]
  },
  {
   "cell_type": "code",
   "execution_count": 2,
   "id": "76151a12",
   "metadata": {},
   "outputs": [
    {
     "name": "stdout",
     "output_type": "stream",
     "text": [
      "iou:  1.771895969475023\n"
     ]
    }
   ],
   "source": [
    "bbox1 = [50, 50, 200, 200]\n",
    "bbox2 = [100, 100, 300, 300]\n",
    "\n",
    "iou = calculate_lou(bbox1, bbox2)\n",
    "print('iou: ', iou)"
   ]
  },
  {
   "cell_type": "markdown",
   "id": "e6da24a1",
   "metadata": {},
   "source": [
    "# Dice Coefficient"
   ]
  },
  {
   "cell_type": "code",
   "execution_count": 3,
   "id": "a644d8ed",
   "metadata": {},
   "outputs": [],
   "source": [
    "import numpy as np\n",
    "import matplotlib.pyplot as plt"
   ]
  },
  {
   "cell_type": "code",
   "execution_count": 4,
   "id": "a472273d",
   "metadata": {},
   "outputs": [],
   "source": [
    "def dice_coefficient(pred_mask, true_mask):\n",
    "    intersection = np.logical_and(pred_mask, true_mask)\n",
    "    dice = (2.0 * intersection.sum()) / (pred_mask.sum() + true_mask.sum())\n",
    "    return dice"
   ]
  },
  {
   "cell_type": "code",
   "execution_count": 5,
   "id": "52359c73",
   "metadata": {},
   "outputs": [],
   "source": [
    "def plot_masks(pred_mask, true_mask):\n",
    "    plt.subplot(1,2,1)\n",
    "    plt.imshow(pred_mask, cmap='gray')\n",
    "    plt.title('Predicted mask')\n",
    "    \n",
    "    plt.subplot(1,2,2)\n",
    "    plt.imshow(true_mask, cmap='gray')\n",
    "    plt.title('True mask')\n",
    "    \n",
    "    plt.show()"
   ]
  },
  {
   "cell_type": "code",
   "execution_count": 6,
   "id": "6eacdd56",
   "metadata": {},
   "outputs": [
    {
     "name": "stdout",
     "output_type": "stream",
     "text": [
      "dice:  0.7692307692307693\n"
     ]
    },
    {
     "data": {
      "image/png": "[encoded data removed]",
      "text/plain": [
       "<Figure size 640x480 with 2 Axes>"
      ]
     },
     "metadata": {},
     "output_type": "display_data"
    }
   ],
   "source": [
    "pred_mask = np.array([[0,1,1,0], [1,1,0,0], [0,1,1,1]])\n",
    "true_mask = np.array([[1,1,0,0], [1,0,0,0], [0,1,1,1]])\n",
    "\n",
    "dice = dice_coefficient(pred_mask, true_mask)\n",
    "print('dice: ', dice)\n",
    "\n",
    "plot_masks(pred_mask, true_mask)"
   ]
  },
  {
   "cell_type": "code",
   "execution_count": null,
   "id": "5c6bcf1b",
   "metadata": {},
   "outputs": [],
   "source": []
  }
 ],
 "metadata": {
  "kernelspec": {
   "display_name": "condatorch",
   "language": "python",
   "name": "condatorch"
  },
  "language_info": {
   "codemirror_mode": {
    "name": "ipython",
    "version": 3
   },
   "file_extension": ".py",
   "mimetype": "text/x-python",
   "name": "python",
   "nbconvert_exporter": "python",
   "pygments_lexer": "ipython3",
   "version": "3.8.16"
  }
 },
 "nbformat": 4,
 "nbformat_minor": 5
}
