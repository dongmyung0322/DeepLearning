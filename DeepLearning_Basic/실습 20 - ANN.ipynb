{
 "cells": [
  {
   "cell_type": "code",
   "execution_count": 1,
   "id": "dce962ca",
   "metadata": {},
   "outputs": [],
   "source": [
    "import torch\n",
    "import torch.nn as nn"
   ]
  },
  {
   "cell_type": "code",
   "execution_count": 2,
   "id": "ad30238f",
   "metadata": {},
   "outputs": [],
   "source": [
    "class ANN(nn.Module):\n",
    "    def __init__(self, input_size, hidden_size, output_size):\n",
    "        super(ANN,self).__init__()\n",
    "        self.f1 = nn.Linear(input_size, hidden_size) # 입력층 > 은닉층 \n",
    "        self.relu = nn.ReLU() # 은닉층의 활성화 함수\n",
    "        self.f2 = nn.Linear(hidden_size, output_size) #은닉층 > 출력층\n",
    "        \n",
    "    def forward(self,x):\n",
    "        out = self.f1(x)\n",
    "        out = self.relu(out)\n",
    "        out = self.f2(out)\n",
    "        return out"
   ]
  },
  {
   "cell_type": "code",
   "execution_count": 3,
   "id": "596028fc",
   "metadata": {},
   "outputs": [],
   "source": [
    "input_size = 784\n",
    "hidden_size = 256\n",
    "output_size = 10\n",
    "model = ANN(input_size, hidden_size, output_size)\n",
    "    \n",
    "criterion = nn.CrossEntropyLoss()\n",
    "learning_rate = 0.01\n",
    "optimizer = torch.optim.SGD(model.parameters(), lr=learning_rate)\n",
    "    \n",
    "#학습 데이터와 레이블 생성\n",
    "inputs = torch.randn(100, input_size) # 크기 100*784\n",
    "labels = torch.randint(0, output_size, (100,)) # 크기 100"
   ]
  },
  {
   "cell_type": "code",
   "execution_count": 5,
   "id": "92f8e677",
   "metadata": {},
   "outputs": [
    {
     "name": "stdout",
     "output_type": "stream",
     "text": [
      "Epoch: 1, Loss: 2.3406107425689697\n",
      "Epoch: 2, Loss: 2.325054407119751\n",
      "Epoch: 3, Loss: 2.309643030166626\n",
      "Epoch: 4, Loss: 2.2943670749664307\n",
      "Epoch: 5, Loss: 2.2792205810546875\n",
      "Epoch: 6, Loss: 2.264194965362549\n",
      "Epoch: 7, Loss: 2.2492945194244385\n",
      "Epoch: 8, Loss: 2.2345046997070312\n",
      "Epoch: 9, Loss: 2.219820261001587\n",
      "Epoch: 10, Loss: 2.205242156982422\n"
     ]
    }
   ],
   "source": [
    "num_epochs = 10\n",
    "for epoch in range(num_epochs):\n",
    "    output = model(inputs)\n",
    "    loss = criterion(output, labels)\n",
    "    \n",
    "    optimizer.zero_grad()\n",
    "    loss.backward()\n",
    "    optimizer.step()\n",
    "    \n",
    "    if (epoch+1) % 1 == 0:\n",
    "        print(f'Epoch: {epoch+1}, Loss: {loss}')"
   ]
  },
  {
   "cell_type": "code",
   "execution_count": null,
   "id": "d0d71d4e",
   "metadata": {},
   "outputs": [],
   "source": []
  }
 ],
 "metadata": {
  "kernelspec": {
   "display_name": "condatorch",
   "language": "python",
   "name": "condatorch"
  },
  "language_info": {
   "codemirror_mode": {
    "name": "ipython",
    "version": 3
   },
   "file_extension": ".py",
   "mimetype": "text/x-python",
   "name": "python",
   "nbconvert_exporter": "python",
   "pygments_lexer": "ipython3",
   "version": "3.8.16"
  }
 },
 "nbformat": 4,
 "nbformat_minor": 5
}
