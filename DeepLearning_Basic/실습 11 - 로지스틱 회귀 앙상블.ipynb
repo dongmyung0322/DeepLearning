{
 "cells": [
  {
   "cell_type": "code",
   "execution_count": 1,
   "id": "4206876b",
   "metadata": {},
   "outputs": [],
   "source": [
    "import torch\n",
    "import torch.nn as nn\n",
    "import torch.optim as optim\n",
    "from torch.utils.data import DataLoader\n",
    "from torchvision.datasets import FashionMNIST\n",
    "from torchvision.transforms import ToTensor\n",
    "from sklearn.model_selection import train_test_split\n",
    "from sklearn.metrics import accuracy_score"
   ]
  },
  {
   "cell_type": "markdown",
   "id": "9b4568d8",
   "metadata": {},
   "source": [
    "# 데이터셋, 데이터 로더 생성"
   ]
  },
  {
   "cell_type": "code",
   "execution_count": 2,
   "id": "e663b944",
   "metadata": {},
   "outputs": [],
   "source": [
    "dataset = FashionMNIST(root='./data', train=True, transform=ToTensor())\n",
    "train_set, val_set = train_test_split(dataset, test_size=0.2, random_state=42)\n",
    "\n",
    "train_loader = DataLoader(train_set, batch_size=100, shuffle=True)\n",
    "test_loader = DataLoader(val_set, batch_size=100, shuffle=False)\n",
    "\n",
    "#이미지 넘어오는거 확인\n",
    "#for i, e in train_loader:\n",
    "   #print(i,e)"
   ]
  },
  {
   "cell_type": "markdown",
   "id": "a26d1ac4",
   "metadata": {},
   "source": [
    "# 모델 생성"
   ]
  },
  {
   "cell_type": "code",
   "execution_count": 3,
   "id": "590e59fe",
   "metadata": {},
   "outputs": [],
   "source": [
    "class LogisticRegression(nn.Module):\n",
    "    def __init__(self, input_size, num_classes):\n",
    "        super(LogisticRegression, self).__init__()\n",
    "        self.linear = nn.Linear(input_size, num_classes)\n",
    "        \n",
    "    def forward(self,x):\n",
    "        out = self.linear(x)\n",
    "        return out"
   ]
  },
  {
   "cell_type": "markdown",
   "id": "1e632b05",
   "metadata": {},
   "source": [
    "# 하이퍼 파라미터 설정"
   ]
  },
  {
   "cell_type": "code",
   "execution_count": 4,
   "id": "510e29e6",
   "metadata": {},
   "outputs": [],
   "source": [
    "input_size = 28*28\n",
    "num_classes = 10\n",
    "num_epoches = 100\n",
    "learning_rate = 0.001\n",
    "num_models = 5 # 앙상블 모델의 수"
   ]
  },
  {
   "cell_type": "markdown",
   "id": "9e0ea2fc",
   "metadata": {},
   "source": [
    "# 앙상블"
   ]
  },
  {
   "cell_type": "code",
   "execution_count": 5,
   "id": "0c897616",
   "metadata": {},
   "outputs": [],
   "source": [
    "# 앙상블 모델 생성\n",
    "models = [LogisticRegression(input_size, num_classes) for _ in range(num_models)]\n",
    "\n",
    "criterion = nn.CrossEntropyLoss()\n",
    "optimizer = [optim.SGD(model.parameters(), lr=learning_rate) for model in models]"
   ]
  },
  {
   "cell_type": "markdown",
   "id": "c877b5d1",
   "metadata": {},
   "source": [
    "# 학습"
   ]
  },
  {
   "cell_type": "code",
   "execution_count": 6,
   "id": "df31a445",
   "metadata": {},
   "outputs": [
    {
     "name": "stdout",
     "output_type": "stream",
     "text": [
      "Epoch [1/100], Validation Acc: 64.25%\n",
      "Epoch [2/100], Validation Acc: 65.87%\n",
      "Epoch [3/100], Validation Acc: 66.75%\n",
      "Epoch [4/100], Validation Acc: 67.65%\n",
      "Epoch [5/100], Validation Acc: 68.50%\n",
      "Epoch [6/100], Validation Acc: 69.55%\n",
      "Epoch [7/100], Validation Acc: 70.69%\n",
      "Epoch [8/100], Validation Acc: 71.40%\n",
      "Epoch [9/100], Validation Acc: 72.16%\n",
      "Epoch [10/100], Validation Acc: 72.89%\n",
      "Epoch [11/100], Validation Acc: 73.42%\n",
      "Epoch [12/100], Validation Acc: 73.92%\n",
      "Epoch [13/100], Validation Acc: 74.31%\n",
      "Epoch [14/100], Validation Acc: 74.77%\n",
      "Epoch [15/100], Validation Acc: 74.89%\n",
      "Epoch [16/100], Validation Acc: 75.42%\n",
      "Epoch [17/100], Validation Acc: 75.82%\n",
      "Epoch [18/100], Validation Acc: 76.26%\n",
      "Epoch [19/100], Validation Acc: 76.41%\n",
      "Epoch [20/100], Validation Acc: 76.70%\n",
      "Epoch [21/100], Validation Acc: 76.92%\n",
      "Epoch [22/100], Validation Acc: 77.24%\n",
      "Epoch [23/100], Validation Acc: 77.41%\n",
      "Epoch [24/100], Validation Acc: 77.64%\n",
      "Epoch [25/100], Validation Acc: 77.79%\n",
      "Epoch [26/100], Validation Acc: 77.95%\n",
      "Epoch [27/100], Validation Acc: 78.17%\n",
      "Epoch [28/100], Validation Acc: 78.26%\n",
      "Epoch [29/100], Validation Acc: 78.43%\n",
      "Epoch [30/100], Validation Acc: 78.54%\n",
      "Epoch [31/100], Validation Acc: 78.59%\n",
      "Epoch [32/100], Validation Acc: 78.70%\n",
      "Epoch [33/100], Validation Acc: 78.86%\n",
      "Epoch [34/100], Validation Acc: 78.99%\n",
      "Epoch [35/100], Validation Acc: 79.07%\n",
      "Epoch [36/100], Validation Acc: 79.23%\n",
      "Epoch [37/100], Validation Acc: 79.28%\n",
      "Epoch [38/100], Validation Acc: 79.38%\n",
      "Epoch [39/100], Validation Acc: 79.47%\n",
      "Epoch [40/100], Validation Acc: 79.53%\n",
      "Epoch [41/100], Validation Acc: 79.62%\n",
      "Epoch [42/100], Validation Acc: 79.67%\n",
      "Epoch [43/100], Validation Acc: 79.78%\n",
      "Epoch [44/100], Validation Acc: 79.88%\n",
      "Epoch [45/100], Validation Acc: 79.93%\n",
      "Epoch [46/100], Validation Acc: 80.00%\n",
      "Epoch [47/100], Validation Acc: 80.15%\n",
      "Epoch [48/100], Validation Acc: 80.20%\n",
      "Epoch [49/100], Validation Acc: 80.26%\n",
      "Epoch [50/100], Validation Acc: 80.41%\n",
      "Epoch [51/100], Validation Acc: 80.32%\n",
      "Epoch [52/100], Validation Acc: 80.42%\n",
      "Epoch [53/100], Validation Acc: 80.54%\n",
      "Epoch [54/100], Validation Acc: 80.56%\n",
      "Epoch [55/100], Validation Acc: 80.69%\n",
      "Epoch [56/100], Validation Acc: 80.69%\n",
      "Epoch [57/100], Validation Acc: 80.75%\n",
      "Epoch [58/100], Validation Acc: 80.86%\n",
      "Epoch [59/100], Validation Acc: 80.80%\n",
      "Epoch [60/100], Validation Acc: 80.89%\n",
      "Epoch [61/100], Validation Acc: 80.96%\n",
      "Epoch [62/100], Validation Acc: 81.00%\n",
      "Epoch [63/100], Validation Acc: 81.07%\n",
      "Epoch [64/100], Validation Acc: 81.11%\n",
      "Epoch [65/100], Validation Acc: 81.13%\n",
      "Epoch [66/100], Validation Acc: 81.14%\n",
      "Epoch [67/100], Validation Acc: 81.22%\n",
      "Epoch [68/100], Validation Acc: 81.25%\n",
      "Epoch [69/100], Validation Acc: 81.28%\n",
      "Epoch [70/100], Validation Acc: 81.31%\n",
      "Epoch [71/100], Validation Acc: 81.34%\n",
      "Epoch [72/100], Validation Acc: 81.40%\n",
      "Epoch [73/100], Validation Acc: 81.40%\n",
      "Epoch [74/100], Validation Acc: 81.47%\n",
      "Epoch [75/100], Validation Acc: 81.47%\n",
      "Epoch [76/100], Validation Acc: 81.51%\n",
      "Epoch [77/100], Validation Acc: 81.55%\n",
      "Epoch [78/100], Validation Acc: 81.59%\n",
      "Epoch [79/100], Validation Acc: 81.68%\n",
      "Epoch [80/100], Validation Acc: 81.69%\n",
      "Epoch [81/100], Validation Acc: 81.71%\n",
      "Epoch [82/100], Validation Acc: 81.72%\n",
      "Epoch [83/100], Validation Acc: 81.77%\n",
      "Epoch [84/100], Validation Acc: 81.78%\n",
      "Epoch [85/100], Validation Acc: 81.86%\n",
      "Epoch [86/100], Validation Acc: 81.83%\n",
      "Epoch [87/100], Validation Acc: 81.94%\n",
      "Epoch [88/100], Validation Acc: 81.92%\n",
      "Epoch [89/100], Validation Acc: 81.94%\n",
      "Epoch [90/100], Validation Acc: 81.97%\n",
      "Epoch [91/100], Validation Acc: 82.03%\n",
      "Epoch [92/100], Validation Acc: 82.01%\n",
      "Epoch [93/100], Validation Acc: 82.09%\n",
      "Epoch [94/100], Validation Acc: 82.09%\n",
      "Epoch [95/100], Validation Acc: 82.11%\n",
      "Epoch [96/100], Validation Acc: 82.12%\n",
      "Epoch [97/100], Validation Acc: 82.17%\n",
      "Epoch [98/100], Validation Acc: 82.18%\n",
      "Epoch [99/100], Validation Acc: 82.23%\n",
      "Epoch [100/100], Validation Acc: 82.20%\n"
     ]
    }
   ],
   "source": [
    "for epoch in range(num_epoches):\n",
    "    for i, (imgs, labels) in enumerate(train_loader):\n",
    "        #이미지 로드\n",
    "        imgs = imgs.reshape(-1, input_size)\n",
    "        labels = labels\n",
    "        \n",
    "        for j in range(num_models):\n",
    "            outputs = models[j](imgs)\n",
    "            loss = criterion(outputs, labels)\n",
    "            \n",
    "            optimizer[j].zero_grad()\n",
    "            loss.backward()\n",
    "            optimizer[j].step()\n",
    "            \n",
    "    # 검증\n",
    "    with torch.no_grad():\n",
    "        total, correct = 0, 0\n",
    "        for imgs, labels in test_loader:\n",
    "            imgs = imgs.reshape(-1,input_size)\n",
    "            outputs = torch.zeros(imgs.size()[0], num_classes) # 입력 배치에 대한 출력 텐서 초기화\n",
    "            \n",
    "            # 앙상블 모델의 예측값 더하가\n",
    "            for j in range(num_models):\n",
    "                outputs += models[j](imgs)\n",
    "                _,predicted = torch.max(outputs.data, 1)\n",
    "                total += labels.size(0)\n",
    "                correct += (predicted==labels).sum().item()\n",
    "                \n",
    "        val_acc = 100 * correct / total\n",
    "        print(f'Epoch [{epoch+1}/{num_epoches}], Validation Acc: {val_acc:.2f}%')"
   ]
  },
  {
   "cell_type": "code",
   "execution_count": null,
   "id": "7042f468",
   "metadata": {},
   "outputs": [],
   "source": []
  }
 ],
 "metadata": {
  "kernelspec": {
   "display_name": "condatorch",
   "language": "python",
   "name": "condatorch"
  },
  "language_info": {
   "codemirror_mode": {
    "name": "ipython",
    "version": 3
   },
   "file_extension": ".py",
   "mimetype": "text/x-python",
   "name": "python",
   "nbconvert_exporter": "python",
   "pygments_lexer": "ipython3",
   "version": "3.8.16"
  }
 },
 "nbformat": 4,
 "nbformat_minor": 5
}
