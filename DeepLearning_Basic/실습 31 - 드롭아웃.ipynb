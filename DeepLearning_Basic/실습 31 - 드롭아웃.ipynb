{
 "cells": [
  {
   "cell_type": "code",
   "execution_count": 1,
   "id": "94853ff1",
   "metadata": {},
   "outputs": [],
   "source": [
    "import torch\n",
    "import torch.nn as nn\n",
    "import torch.optim as optim\n",
    "import torchvision.datasets as datasets\n",
    "import torchvision.transforms as transforms"
   ]
  },
  {
   "cell_type": "code",
   "execution_count": 2,
   "id": "0b921da1",
   "metadata": {},
   "outputs": [],
   "source": [
    "class DropoutNet(nn.Module):\n",
    "    def __init__(self):\n",
    "        super(DropoutNet, self).__init__()\n",
    "        self.fc1 = nn.Linear(784, 500)\n",
    "        self.dropout = nn.Dropout(p=0.5)\n",
    "        self.fc2 = nn.Linear(500, 10)\n",
    "        \n",
    "    def forward(self, x):\n",
    "        x = x.view(x.size(0), -1)\n",
    "        x = torch.relu(self.fc1(x))\n",
    "        x = self.dropout(x)\n",
    "        x = self.fc2(x)\n",
    "        return x"
   ]
  },
  {
   "cell_type": "code",
   "execution_count": 3,
   "id": "a933a9f1",
   "metadata": {},
   "outputs": [],
   "source": [
    "class NonDropoutNet(nn.Module):\n",
    "    def __init__(self):\n",
    "        super(NonDropoutNet, self).__init__()\n",
    "        self.fc1 = nn.Linear(784, 500)\n",
    "        self.fc2 = nn.Linear(500, 10)\n",
    "        \n",
    "    def forward(self, x):\n",
    "        x = x.view(x.size(0), -1)\n",
    "        x = torch.relu(self.fc1(x))\n",
    "        x = self.fc2(x)\n",
    "        return x"
   ]
  },
  {
   "cell_type": "code",
   "execution_count": 4,
   "id": "f6241fa8",
   "metadata": {},
   "outputs": [],
   "source": [
    "train_transform = transforms.Compose([\n",
    "    #transforms.AutoAugment(),\n",
    "    transforms.ToTensor(),\n",
    "    transforms.Normalize((0.5,),(0.5,))\n",
    "])\n",
    "\n",
    "test_transform = transforms.Compose([\n",
    "    transforms.ToTensor(),\n",
    "    transforms.Normalize((0.5,),(0.5,))\n",
    "])\n",
    "\n",
    "train_set = datasets.MNIST(root='./data', train=True, download=False, transform=train_transform)\n",
    "test_set = datasets.MNIST(root='./data', train=False, download=False, transform=test_transform)\n",
    "\n",
    "train_loader = torch.utils.data.DataLoader(train_set, batch_size=64, shuffle=True)\n",
    "test_loader = torch.utils.data.DataLoader(test_set, batch_size=64)"
   ]
  },
  {
   "cell_type": "code",
   "execution_count": 5,
   "id": "0e3686cb",
   "metadata": {},
   "outputs": [],
   "source": [
    "dropout_model = DropoutNet()\n",
    "\n",
    "dropout_criterion = nn.CrossEntropyLoss()\n",
    "dropout_optimizer = optim.SGD(dropout_model.parameters(), lr=0.01)"
   ]
  },
  {
   "cell_type": "code",
   "execution_count": 6,
   "id": "2d30cddb",
   "metadata": {},
   "outputs": [
    {
     "name": "stdout",
     "output_type": "stream",
     "text": [
      "드롭아웃 모델 정확도: 89.09%\n",
      "드롭아웃 모델 정확도: 91.20%\n",
      "드롭아웃 모델 정확도: 92.00%\n",
      "드롭아웃 모델 정확도: 92.83%\n",
      "드롭아웃 모델 정확도: 93.31%\n",
      "드롭아웃 모델 정확도: 94.04%\n",
      "드롭아웃 모델 정확도: 94.39%\n",
      "드롭아웃 모델 정확도: 94.77%\n",
      "드롭아웃 모델 정확도: 94.95%\n",
      "드롭아웃 모델 정확도: 95.29%\n"
     ]
    }
   ],
   "source": [
    "for epoch in range(10):\n",
    "    dropout_model.train()\n",
    "    for imgs, labels in train_loader:\n",
    "        dropout_optimizer.zero_grad()\n",
    "        output = dropout_model(imgs)\n",
    "        loss = dropout_criterion(output,labels)\n",
    "        loss.backward()\n",
    "        dropout_optimizer.step()\n",
    "        \n",
    "    dropout_model.eval()\n",
    "    with torch.no_grad():\n",
    "        correct = 0\n",
    "        total = 0\n",
    "        for imgs, labels in test_loader:\n",
    "            output = dropout_model(imgs)\n",
    "            _, predicted = torch.max(output.data, 1)\n",
    "            total += labels.size(0)\n",
    "            correct += (predicted==labels).sum().item()\n",
    "            \n",
    "        print('드롭아웃 모델 정확도: {:.2f}%'.format(correct/total*100))"
   ]
  },
  {
   "cell_type": "code",
   "execution_count": 7,
   "id": "135a8c17",
   "metadata": {},
   "outputs": [],
   "source": [
    "non_dropout_model = NonDropoutNet()\n",
    "\n",
    "non_dropout_criterion = nn.CrossEntropyLoss()\n",
    "non_dropout_optimizer = optim.SGD(non_dropout_model.parameters(), lr=0.01)"
   ]
  },
  {
   "cell_type": "code",
   "execution_count": 8,
   "id": "1028aebc",
   "metadata": {},
   "outputs": [
    {
     "name": "stdout",
     "output_type": "stream",
     "text": [
      "드롭아웃 미사용 모델 정확도: 89.14%\n",
      "드롭아웃 미사용 모델 정확도: 90.81%\n",
      "드롭아웃 미사용 모델 정확도: 91.68%\n",
      "드롭아웃 미사용 모델 정확도: 92.43%\n",
      "드롭아웃 미사용 모델 정확도: 93.05%\n",
      "드롭아웃 미사용 모델 정확도: 93.45%\n",
      "드롭아웃 미사용 모델 정확도: 93.93%\n",
      "드롭아웃 미사용 모델 정확도: 94.39%\n",
      "드롭아웃 미사용 모델 정확도: 94.70%\n",
      "드롭아웃 미사용 모델 정확도: 94.63%\n"
     ]
    }
   ],
   "source": [
    "for epoch in range(10):\n",
    "    non_dropout_model.train()\n",
    "    for imgs, labels in train_loader:\n",
    "        non_dropout_optimizer.zero_grad()\n",
    "        output = non_dropout_model(imgs)\n",
    "        loss = non_dropout_criterion(output,labels)\n",
    "        loss.backward()\n",
    "        non_dropout_optimizer.step()\n",
    "        \n",
    "    non_dropout_model.eval()\n",
    "    with torch.no_grad():\n",
    "        correct = 0\n",
    "        total = 0\n",
    "        for imgs, labels in test_loader:\n",
    "            output = non_dropout_model(imgs)\n",
    "            _, predicted = torch.max(output.data, 1)\n",
    "            total += labels.size(0)\n",
    "            correct += (predicted==labels).sum().item()\n",
    "            \n",
    "        print('드롭아웃 미사용 모델 정확도: {:.2f}%'.format(correct/total*100))"
   ]
  },
  {
   "cell_type": "code",
   "execution_count": null,
   "id": "90260dc2",
   "metadata": {},
   "outputs": [],
   "source": []
  }
 ],
 "metadata": {
  "kernelspec": {
   "display_name": "condatorch",
   "language": "python",
   "name": "condatorch"
  },
  "language_info": {
   "codemirror_mode": {
    "name": "ipython",
    "version": 3
   },
   "file_extension": ".py",
   "mimetype": "text/x-python",
   "name": "python",
   "nbconvert_exporter": "python",
   "pygments_lexer": "ipython3",
   "version": "3.8.16"
  }
 },
 "nbformat": 4,
 "nbformat_minor": 5
}
